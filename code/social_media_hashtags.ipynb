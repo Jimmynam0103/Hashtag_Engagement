{
 "cells": [
  {
   "cell_type": "markdown",
   "id": "1d9c8d2e",
   "metadata": {},
   "source": [
    "# Hashtags Project"
   ]
  },
  {
   "cell_type": "code",
   "execution_count": 1,
   "id": "1b8fa68c",
   "metadata": {},
   "outputs": [],
   "source": [
    "# Import pandas, numpy, and matplotlib\n",
    "import pandas as pd\n",
    "import numpy as np\n",
    "import matplotlib.pyplot as plt\n",
    "\n",
    "# seaborn is a data visualization library built on matplotlib\n",
    "import seaborn as sns\n",
    "\n",
    "# set the plotting style\n",
    "sns.set_style(\"whitegrid\")"
   ]
  },
  {
   "cell_type": "markdown",
   "id": "77d6d81f",
   "metadata": {},
   "source": [
    "##### load the data set"
   ]
  },
  {
   "cell_type": "markdown",
   "id": "c3b585e5",
   "metadata": {},
   "source": []
  }
 ],
 "metadata": {
  "kernelspec": {
   "display_name": "anaconda-2025.06-py3.11",
   "language": "python",
   "name": "python3"
  },
  "language_info": {
   "codemirror_mode": {
    "name": "ipython",
    "version": 3
   },
   "file_extension": ".py",
   "mimetype": "text/x-python",
   "name": "python",
   "nbconvert_exporter": "python",
   "pygments_lexer": "ipython3",
   "version": "3.11.13"
  }
 },
 "nbformat": 4,
 "nbformat_minor": 5
}
